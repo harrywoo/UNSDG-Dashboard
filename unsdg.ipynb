{
 "cells": [
  {
   "cell_type": "code",
   "execution_count": 1,
   "metadata": {
    "ExecuteTime": {
     "end_time": "2020-04-19T18:48:10.351288Z",
     "start_time": "2020-04-19T18:48:06.922117Z"
    }
   },
   "outputs": [],
   "source": [
    "import dash\n",
    "import dash_core_components as dcc\n",
    "import dash_html_components as html\n",
    "from dash.dependencies import Input, Output\n",
    "import pandas as pd\n",
    "import numpy as np\n",
    "import plotly.graph_objs as go    \n",
    "import plotly\n",
    "import datetime"
   ]
  },
  {
   "cell_type": "code",
   "execution_count": 2,
   "metadata": {
    "ExecuteTime": {
     "end_time": "2020-04-19T18:48:11.226526Z",
     "start_time": "2020-04-19T18:48:10.359052Z"
    }
   },
   "outputs": [],
   "source": [
    "sdg = pd.read_csv('data/data_2020.csv', index_col=0)\n",
    "sdg = sdg.reset_index()\n",
    "# sdg = pd.read_csv('data/data_rated_SDG.csv', index_col=0)\n",
    "sdg['date'] = pd.to_datetime(sdg['date'])\n",
    "# year = sdg['date'].dt.year\n",
    "# sdg = sdg[year>2019]\n"
   ]
  },
  {
   "cell_type": "code",
   "execution_count": 3,
   "metadata": {
    "ExecuteTime": {
     "end_time": "2020-04-19T18:48:11.247184Z",
     "start_time": "2020-04-19T18:48:11.229379Z"
    }
   },
   "outputs": [
    {
     "data": {
      "text/plain": [
       "Index(['index', 'date', 'Ticker', 'ISIN', 'COMPANY', 'GICS Sector', 'SDG_1',\n",
       "       'SDG_2', 'SDG_3', 'SDG_4', 'SDG_5', 'SDG_6', 'SDG_7', 'SDG_8', 'SDG_9',\n",
       "       'SDG_10', 'SDG_11', 'SDG_12', 'SDG_13', 'SDG_14', 'SDG_15', 'SDG_16',\n",
       "       'SDG_17', 'SDG_Mean', 'MA_7day_1', 'MA_7day_2', 'MA_7day_3',\n",
       "       'MA_7day_4', 'MA_7day_5', 'MA_7day_6', 'MA_7day_7', 'MA_7day_8',\n",
       "       'MA_7day_9', 'MA_7day_10', 'MA_7day_11', 'MA_7day_12', 'MA_7day_13',\n",
       "       'MA_7day_14', 'MA_7day_15', 'MA_7day_16', 'MA_7day_17', 'MA_7day_Mean',\n",
       "       'MA_60day_1', 'MA_60day_2', 'MA_60day_3', 'MA_60day_4', 'MA_60day_5',\n",
       "       'MA_60day_6', 'MA_60day_7', 'MA_60day_8', 'MA_60day_9', 'MA_60day_10',\n",
       "       'MA_60day_11', 'MA_60day_12', 'MA_60day_13', 'MA_60day_14',\n",
       "       'MA_60day_15', 'MA_60day_16', 'MA_60day_17', 'MA_60day_Mean',\n",
       "       'SDG_1_std', 'SDG_2_std', 'SDG_3_std', 'SDG_4_std', 'SDG_5_std',\n",
       "       'SDG_6_std', 'SDG_7_std', 'SDG_8_std', 'SDG_9_std', 'SDG_10_std',\n",
       "       'SDG_11_std', 'SDG_12_std', 'SDG_13_std', 'SDG_14_std', 'SDG_15_std',\n",
       "       'SDG_16_std', 'SDG_17_std', 'SDG_std_Mean', 'SDG_1_count',\n",
       "       'SDG_2_count', 'SDG_3_count', 'SDG_4_count', 'SDG_5_count',\n",
       "       'SDG_6_count', 'SDG_7_count', 'SDG_8_count', 'SDG_9_count',\n",
       "       'SDG_10_count', 'SDG_11_count', 'SDG_12_count', 'SDG_13_count',\n",
       "       'SDG_14_count', 'SDG_15_count', 'SDG_16_count', 'SDG_17_count',\n",
       "       'SDG_count_Mean'],\n",
       "      dtype='object')"
      ]
     },
     "execution_count": 3,
     "metadata": {},
     "output_type": "execute_result"
    }
   ],
   "source": [
    "sdg.columns"
   ]
  },
  {
   "cell_type": "code",
   "execution_count": 4,
   "metadata": {
    "ExecuteTime": {
     "end_time": "2020-04-19T18:48:11.276618Z",
     "start_time": "2020-04-19T18:48:11.253383Z"
    }
   },
   "outputs": [],
   "source": [
    "company = sdg['COMPANY'].unique()\n",
    "MA_7day = ['MA_7day_1', 'MA_7day_2', 'MA_7day_3', 'MA_7day_4', 'MA_7day_5',\n",
    "       'MA_7day_6', 'MA_7day_7', 'MA_7day_8', 'MA_7day_9', 'MA_7day_10',\n",
    "       'MA_7day_11', 'MA_7day_12', 'MA_7day_13', 'MA_7day_14', 'MA_7day_15',\n",
    "       'MA_7day_16', 'MA_7day_17']\n",
    "MA_60day = ['MA_60day_1', 'MA_60day_2',\n",
    "       'MA_60day_3', 'MA_60day_4', 'MA_60day_5', 'MA_60day_6', 'MA_60day_7',\n",
    "       'MA_60day_8', 'MA_60day_9', 'MA_60day_10', 'MA_60day_11', 'MA_60day_12',\n",
    "       'MA_60day_13', 'MA_60day_14', 'MA_60day_15', 'MA_60day_16',\n",
    "       'MA_60day_17']\n",
    "SDG_std = ['SDG_1_std', 'SDG_2_std',\n",
    "       'SDG_3_std', 'SDG_4_std', 'SDG_5_std', 'SDG_6_std', 'SDG_7_std',\n",
    "       'SDG_8_std', 'SDG_9_std', 'SDG_10_std', 'SDG_11_std', 'SDG_12_std',\n",
    "       'SDG_13_std', 'SDG_14_std', 'SDG_15_std', 'SDG_16_std', 'SDG_17_std']\n",
    "SDG_count = ['SDG_1_count', 'SDG_2_count', 'SDG_3_count',\n",
    "       'SDG_4_count', 'SDG_5_count', 'SDG_6_count', 'SDG_7_count',\n",
    "       'SDG_8_count', 'SDG_9_count', 'SDG_10_count', 'SDG_11_count',\n",
    "       'SDG_12_count', 'SDG_13_count', 'SDG_14_count', 'SDG_15_count',\n",
    "       'SDG_16_count', 'SDG_17_count']\n",
    "\n",
    "MA_type = ['MA_7day','MA_60day']\n",
    "\n",
    "sdg_type = ['SDG_1', 'SDG_2', 'SDG_3', 'SDG_4', 'SDG_5', 'SDG_6', 'SDG_7', 'SDG_8', 'SDG_9',\n",
    "            'SDG_10', 'SDG_11', 'SDG_12', 'SDG_13', 'SDG_14', 'SDG_15', 'SDG_16', 'SDG_17']\n",
    "\n",
    "data_type = [\"SDG\", \"MA\", \"STD\", \"COUNTS\"]\n",
    "data_type_dict = {\"SDG\":sdg_type, \"MA\":MA_60day, \"STD\":SDG_std, \"COUNTS\":SDG_count}"
   ]
  },
  {
   "cell_type": "code",
   "execution_count": 5,
   "metadata": {
    "ExecuteTime": {
     "end_time": "2020-04-19T18:48:11.498543Z",
     "start_time": "2020-04-19T18:48:11.282400Z"
    }
   },
   "outputs": [
    {
     "data": {
      "text/plain": [
       "(Timestamp('2020-01-01 00:00:00'), Timestamp('2020-03-10 00:00:00'))"
      ]
     },
     "execution_count": 5,
     "metadata": {},
     "output_type": "execute_result"
    }
   ],
   "source": [
    "first_day = sdg.groupby(\"Ticker\").first()[\"date\"].value_counts().index[0]\n",
    "last_day = sdg.groupby(\"Ticker\").last()[\"date\"].value_counts().index[0]\n",
    "first_day, last_day"
   ]
  },
  {
   "cell_type": "code",
   "execution_count": 6,
   "metadata": {
    "ExecuteTime": {
     "end_time": "2020-04-19T18:48:11.528727Z",
     "start_time": "2020-04-19T18:48:11.501127Z"
    }
   },
   "outputs": [],
   "source": [
    "start_date = last_day - datetime.timedelta(days=30)\n",
    "end_date = last_day\n",
    "date_list = sdg[sdg[\"Ticker\"]==sdg.loc[0][\"Ticker\"]][\"date\"]\n",
    "date_dict = date_list.to_dict()\n",
    "date_str_dict = date_list.dt.date.map(str).to_dict()\n",
    "date_length = len(date_dict)-1\n",
    "\n",
    "for index, value in date_str_dict.items():\n",
    "    if index not in [0, int(date_length/2), date_length]:\n",
    "        date_str_dict[index] = \"\"\n",
    "# date_str_dict"
   ]
  },
  {
   "cell_type": "code",
   "execution_count": 9,
   "metadata": {
    "ExecuteTime": {
     "end_time": "2020-04-19T18:50:39.074379Z",
     "start_time": "2020-04-19T18:48:37.263050Z"
    }
   },
   "outputs": [
    {
     "name": "stdout",
     "output_type": "stream",
     "text": [
      " * Serving Flask app \"__main__\" (lazy loading)\n",
      " * Environment: production\n",
      "   WARNING: This is a development server. Do not use it in a production deployment.\n",
      "   Use a production WSGI server instead.\n",
      " * Debug mode: off\n"
     ]
    },
    {
     "name": "stderr",
     "output_type": "stream",
     "text": [
      " * Running on http://127.0.0.1:8050/ (Press CTRL+C to quit)\n",
      "127.0.0.1 - - [19/Apr/2020 14:48:38] \"\u001b[37mGET / HTTP/1.1\u001b[0m\" 200 -\n",
      "127.0.0.1 - - [19/Apr/2020 14:48:39] \"\u001b[37mGET /_dash-layout HTTP/1.1\u001b[0m\" 200 -\n",
      "127.0.0.1 - - [19/Apr/2020 14:48:39] \"\u001b[37mGET /_dash-dependencies HTTP/1.1\u001b[0m\" 200 -\n",
      "127.0.0.1 - - [19/Apr/2020 14:48:39] \"\u001b[37mPOST /_dash-update-component HTTP/1.1\u001b[0m\" 200 -\n",
      "127.0.0.1 - - [19/Apr/2020 14:48:39] \"\u001b[37mPOST /_dash-update-component HTTP/1.1\u001b[0m\" 200 -\n",
      "127.0.0.1 - - [19/Apr/2020 14:48:39] \"\u001b[37mPOST /_dash-update-component HTTP/1.1\u001b[0m\" 200 -\n"
     ]
    }
   ],
   "source": [
    "colors = {'background': '#111111', 'text': '#7FDBFF','button':'#FFFF00'}\n",
    "app = dash.Dash()\n",
    "\n",
    "app.layout = html.Div([\n",
    "        html.Br(),\n",
    "        html.Br(),\n",
    "        # header and logo\n",
    "        html.Div([\n",
    "            html.H1('SDG Time Series', className = 'ten columns', style = {'margin-top': 10,'margin-left': 15, 'color': colors['text']}),\n",
    "\n",
    "            html.Img(\n",
    "                src = 'https://images.squarespace-cdn.com/content/5c036cd54eddec1d4ff1c1eb/1557908564936-YSBRPFCGYV2CE43OHI7F/GlobalAI_logo.jpg?content-type=image%2Fpng',\n",
    "                style = {\n",
    "                    'height': '11%',\n",
    "                    'width': '11%',\n",
    "                    'float': 'right',\n",
    "                    'position': 'relative',\n",
    "                    'margin-top': 11,\n",
    "                    'margin-right': 0\n",
    "                },\n",
    "                className = 'two columns'        \n",
    "            )  \n",
    "        ], className = 'row'),\n",
    "\n",
    "        html.Br(),\n",
    "        html.Br(),\n",
    "        html.Br(),\n",
    "        \n",
    "    \n",
    "        # select the company \n",
    "        html.Div([\n",
    "            html.H3('Select the company:', style={'paddingRight':'30px','color': '#9999FF'}),\n",
    "            dcc.Dropdown(\n",
    "            id = 'company',\n",
    "            options = [{'label':i, 'value':i} for i in company],\n",
    "            value = 'apple inc'\n",
    "            )\n",
    "        ], style={\"width\": \"25%\"}),\n",
    "        \n",
    "        # select the type of MA you want to see\n",
    "        html.Div([\n",
    "            html.H3('Select the data type:', style={'paddingRight':'30px','color': '#9999FF'}),\n",
    "            dcc.Dropdown(\n",
    "            id = 'data_type',\n",
    "            options = [{'label':i, 'value':i} for i in data_type],\n",
    "            value = data_type[0]\n",
    "            )\n",
    "        ], style={\"width\": \"25%\"}),\n",
    "        \n",
    "        # select time range of MA time series\n",
    "        html.Div([\n",
    "            html.H3('Select the time zone:', style={'paddingRight':'30px','color': '#9999FF'}),\n",
    "            dcc.Slider(id=\"current_date\", min=0, max=date_length, value=date_length,\n",
    "                                 marks=date_str_dict)],style={\"width\": \"50%\"}),\n",
    "    \n",
    "        # Scatter chart\n",
    "        html.Div([\n",
    "             html.H3('Time series of MA_sdg you selected', style={'paddingRight':'30px','color': colors['text']}),\n",
    "        html.Div([\n",
    "                dcc.Graph(id = 'scatter')\n",
    "            ], className = 'twelve columns'),\n",
    "        ], className = 'row',style={\"height\" : '50vh', \"width\" : \"70%\",'margin-left': 0, \n",
    "                                    'margin-right': 0,'margin-top':0,'margin-bottom':0}),\n",
    "        html.Br(), \n",
    "        # Histogram chart\n",
    "        html.Div([\n",
    "             html.H3('Distribution of SDG you selected', style={'paddingRight':'30px','color': colors['text']}),\n",
    "        html.Div([\n",
    "                dcc.Graph(id = 'histogram')\n",
    "            ], className = 'twelve columns'),\n",
    "        ], className = 'row',style={\"height\" : '50vh', \"width\" : \"70%\",'margin-left': 0, \n",
    "                                    'margin-right': 0,'margin-top':0,'margin-bottom':0}),\n",
    "        html.Br(),\n",
    "        # Heatmap\n",
    "        html.Div([\n",
    "             html.H3('Distribution of SDG you selected', style={'paddingRight':'30px','color': colors['text']}),\n",
    "        html.Div([\n",
    "                dcc.Graph(id = 'heatmap')\n",
    "            ], className = 'twelve columns'),\n",
    "        ], className = 'row',style={\"height\" : '50vh', \"width\" : \"70%\",'margin-left': 0, \n",
    "                                    'margin-right': 0,'margin-top':0,'margin-bottom':0}),\n",
    "        html.Br(),\n",
    "\n",
    "],style = {'backgroundColor': colors['background']}) \n",
    "        \n",
    "\n",
    "\n",
    "\n",
    "@app.callback(\n",
    "    Output('scatter', 'figure'),\n",
    "    [Input('company', 'value'), Input('data_type', 'value'), Input('current_date', 'value')])\n",
    "def update_figure(company, data_type, current_date):\n",
    "    df = sdg[sdg['COMPANY'] == company]\n",
    "\n",
    "    current_date = date_dict[current_date]\n",
    "#     current_date = last_day\n",
    "    start_date = current_date - datetime.timedelta(days=30)\n",
    "\n",
    "    df = df[(df[\"date\"]>=start_date) & (df[\"date\"]<=current_date)]\n",
    "    \n",
    "    trace = [go.Scatter(x=df[\"date\"], y=df[x], mode='lines',\n",
    "                            marker={'size': 8, \"opacity\": 0.6, \"line\": {'width': 0.5}}, ) for x in data_type_dict[data_type]]\n",
    "    return {\"data\": trace,\n",
    "            \"layout\": go.Layout(plot_bgcolor = colors['background'],\n",
    "                  paper_bgcolor = colors['background'],font = {'color': colors['text']},title=\"Daily line chart of SDG\", colorway=['#fdae61', '#abd9e9'],\n",
    "                                yaxis={\"title\": \"Rate\"}, xaxis={\"title\": \"Date\"})}\n",
    "\n",
    "@app.callback(\n",
    "    Output('histogram', 'figure'),\n",
    "    [Input('company', 'value'), Input('data_type', 'value'), Input('current_date', 'value')])\n",
    "def update_figure(company, data_type, current_date):\n",
    "    df = sdg[sdg['COMPANY'] == company]\n",
    "    current_date = date_dict[current_date]\n",
    "\n",
    "#     current_date = last_day\n",
    "    start_date = current_date - datetime.timedelta(days=30)\n",
    "\n",
    "    df = df[(df[\"date\"]>=start_date) & (df[\"date\"]<=current_date)]\n",
    "    \n",
    "    trace = [go.Histogram(x=df[x]) for x in data_type_dict[data_type]]\n",
    "    return {\"data\": trace,\n",
    "            \"layout\": go.Layout(plot_bgcolor = colors['background'],\n",
    "                  paper_bgcolor = colors['background'],font = {'color': colors['text']},title=\"Daily histogram of SDG\", colorway=['#fdae61', '#abd9e9'],\n",
    "                                yaxis={\"title\": \"Rate\"}, xaxis={\"title\": \"Date\"})}\n",
    "\n",
    "@app.callback(\n",
    "    Output('heatmap', 'figure'),\n",
    "    [Input('company', 'value'), Input('data_type', 'value'), Input('current_date', 'value')])\n",
    "def update_figure(company, data_type, current_date):\n",
    "    df = sdg[sdg['COMPANY'] == company]\n",
    "    \n",
    "    current_date = date_dict[current_date]\n",
    "#     current_date = last_day\n",
    "    date = current_date - datetime.timedelta(days=1)\n",
    "    df = df[df[\"date\"]==date]\n",
    "    \n",
    "    trace = [go.Heatmap(z=df[sdg_type])]\n",
    "    return {\"data\": trace,\n",
    "            \"layout\": go.Layout(plot_bgcolor = colors['background'],\n",
    "                  paper_bgcolor = colors['background'],font = {'color': colors['text']},title=\"Daily heatmap of SDG\", colorway=['#fdae61', '#abd9e9'], \n",
    "                                yaxis={\"title\": \"Rate\"}, xaxis={\"title\": \"Date\"})}\n",
    "\n",
    "if __name__ == '__main__':\n",
    "    app.run_server()"
   ]
  },
  {
   "cell_type": "code",
   "execution_count": 8,
   "metadata": {
    "ExecuteTime": {
     "end_time": "2020-04-19T18:48:35.877288Z",
     "start_time": "2020-04-19T18:48:35.852900Z"
    }
   },
   "outputs": [
    {
     "data": {
      "text/plain": [
       "datetime.datetime(2020, 10, 20, 0, 0)"
      ]
     },
     "execution_count": 8,
     "metadata": {},
     "output_type": "execute_result"
    }
   ],
   "source": [
    "datetime.datetime.strptime(\"2020-10-20\", \"%Y-%m-%d\")"
   ]
  },
  {
   "cell_type": "code",
   "execution_count": null,
   "metadata": {},
   "outputs": [],
   "source": []
  },
  {
   "cell_type": "code",
   "execution_count": null,
   "metadata": {},
   "outputs": [],
   "source": []
  },
  {
   "cell_type": "code",
   "execution_count": null,
   "metadata": {},
   "outputs": [],
   "source": []
  },
  {
   "cell_type": "code",
   "execution_count": null,
   "metadata": {},
   "outputs": [],
   "source": []
  }
 ],
 "metadata": {
  "kernelspec": {
   "display_name": "Python 3",
   "language": "python",
   "name": "python3"
  },
  "language_info": {
   "codemirror_mode": {
    "name": "ipython",
    "version": 3
   },
   "file_extension": ".py",
   "mimetype": "text/x-python",
   "name": "python",
   "nbconvert_exporter": "python",
   "pygments_lexer": "ipython3",
   "version": "3.7.4"
  },
  "toc": {
   "base_numbering": 1,
   "nav_menu": {},
   "number_sections": true,
   "sideBar": true,
   "skip_h1_title": false,
   "title_cell": "Table of Contents",
   "title_sidebar": "Contents",
   "toc_cell": false,
   "toc_position": {},
   "toc_section_display": true,
   "toc_window_display": false
  },
  "varInspector": {
   "cols": {
    "lenName": 16,
    "lenType": 16,
    "lenVar": 40
   },
   "kernels_config": {
    "python": {
     "delete_cmd_postfix": "",
     "delete_cmd_prefix": "del ",
     "library": "var_list.py",
     "varRefreshCmd": "print(var_dic_list())"
    },
    "r": {
     "delete_cmd_postfix": ") ",
     "delete_cmd_prefix": "rm(",
     "library": "var_list.r",
     "varRefreshCmd": "cat(var_dic_list()) "
    }
   },
   "types_to_exclude": [
    "module",
    "function",
    "builtin_function_or_method",
    "instance",
    "_Feature"
   ],
   "window_display": false
  }
 },
 "nbformat": 4,
 "nbformat_minor": 2
}
